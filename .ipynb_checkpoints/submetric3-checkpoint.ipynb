{
 "cells": [
  {
   "cell_type": "code",
   "execution_count": 1,
   "metadata": {},
   "outputs": [
    {
     "name": "stdout",
     "output_type": "stream",
     "text": [
      "{15236: 5, 15220: 4, 15206: 14, 15233: 3, 15202: 9, 15227: 7, 15209: 2, 15212: 10, 15217: 9, 15221: 20, 15224: 4, 15102: 4, 15232: 5, 15025: 1, 15044: 6, 15132: 8, 15148: 1, 15110: 2, 15035: 1, 15218: 3, 15237: 11, 15205: 10, 15090: 12, 15116: 5, 15201: 3, 15238: 6, 15101: 5, 15222: 5, 15122: 4, 15213: 14, 15108: 8, 15210: 3, 15219: 6, 15024: 1, 15215: 3, 15235: 5, 15120: 7, 15239: 3, 15143: 8, 15226: 3, 15214: 5, 15261: 1, 16046: 1, 15147: 4, 15228: 7, 15146: 9, 15065: 4, 15136: 2, 15216: 4, 15129: 1, 15223: 1, 15131: 2, 15017: 4, 15241: 7, 15211: 1, 15243: 3, 15208: 3, 15137: 1, 15104: 1, 15139: 1, 15234: 1, 15207: 2, 15144: 1}\n"
     ]
    }
   ],
   "source": [
    "import pandas as pd\n",
    "data3 = pd.read_csv(\"data3.csv\", sep=\",\")\n",
    "numberOfSchools=dict()\n",
    "for index, row in data3.iterrows():\n",
    "    zip = row['location_zip_code']\n",
    "    if zip in numberOfSchools:\n",
    "        numberOfSchools[zip]=numberOfSchools[zip]+1\n",
    "    else:\n",
    "        numberOfSchools[zip]=1\n",
    "print(numberOfSchools)"
   ]
  },
  {
   "cell_type": "markdown",
   "metadata": {},
   "source": [
    "After analyazing this data, I think the best neighborhoods(zipcodes) to live in would be 15025, 15148, 15035, 15024, 15261, 16046, 15129,15223, 15211, 15137, 15104, 15139, 15234, and 15144. I think that because they have the least amount of private school so they will be nicer towns because kids and parents at private schools are more stuck up. -Ava"
   ]
  },
  {
   "cell_type": "code",
   "execution_count": null,
   "metadata": {},
   "outputs": [],
   "source": []
  }
 ],
 "metadata": {
  "kernelspec": {
   "display_name": "Python 3",
   "language": "python",
   "name": "python3"
  },
  "language_info": {
   "codemirror_mode": {
    "name": "ipython",
    "version": 3
   },
   "file_extension": ".py",
   "mimetype": "text/x-python",
   "name": "python",
   "nbconvert_exporter": "python",
   "pygments_lexer": "ipython3",
   "version": "3.8.3"
  }
 },
 "nbformat": 4,
 "nbformat_minor": 4
}
